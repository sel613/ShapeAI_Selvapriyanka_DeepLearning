{
  "nbformat": 4,
  "nbformat_minor": 0,
  "metadata": {
    "colab": {
      "name": "Selvapriyanka_R.ipynb",
      "provenance": [],
      "collapsed_sections": []
    },
    "kernelspec": {
      "name": "python3",
      "display_name": "Python 3"
    },
    "language_info": {
      "name": "python"
    }
  },
  "cells": [
    {
      "cell_type": "code",
      "metadata": {
        "id": "KkaTUEYqVpVD"
      },
      "source": [
        "#Importinf Dataset\n",
        "from keras.datasets import mnist\n",
        "\n",
        "data=mnist.load_data()"
      ],
      "execution_count": null,
      "outputs": []
    },
    {
      "cell_type": "code",
      "metadata": {
        "id": "XIAUHEagWNGa"
      },
      "source": [
        "#Define Training and Testing Data\n",
        "((x_train,y_train),(x_test,y_test))=data"
      ],
      "execution_count": null,
      "outputs": []
    },
    {
      "cell_type": "code",
      "metadata": {
        "id": "hy5ibHMrZyIZ"
      },
      "source": [
        "#Reshape the Training Data\n",
        "x_train=x_train.reshape((x_train.shape[0],28*28)).astype('float32')\n",
        "x_test=x_test.reshape((x_test.shape[0],28*28)).astype('float32')"
      ],
      "execution_count": null,
      "outputs": []
    },
    {
      "cell_type": "code",
      "metadata": {
        "id": "xb9vSTSBbCCD"
      },
      "source": [
        "#Normalizing values from 0-255 to 0-1\n",
        "x_train=x_train/255\n",
        "x_test=x_test/255"
      ],
      "execution_count": null,
      "outputs": []
    },
    {
      "cell_type": "code",
      "metadata": {
        "colab": {
          "base_uri": "https://localhost:8080/"
        },
        "id": "M4RH5xmbcHDm",
        "outputId": "2c4767c5-ee59-48ea-f293-fa3e1430b152"
      },
      "source": [
        "from keras.utils import np_utils\n",
        "print(y_test.shape)\n",
        "y_train=np_utils.to_categorical(y_train)\n",
        "y_test=np_utils.to_categorical(y_test)\n",
        "\n",
        "num_classes=y_test.shape[1]\n",
        "print(y_test.shape)"
      ],
      "execution_count": null,
      "outputs": [
        {
          "output_type": "stream",
          "text": [
            "(10000,)\n",
            "(10000, 10)\n"
          ],
          "name": "stdout"
        }
      ]
    },
    {
      "cell_type": "code",
      "metadata": {
        "id": "7GnHVOBndBxK"
      },
      "source": [
        "from keras.models import Sequential\n",
        "from keras.layers import Dense\n",
        "#from keras.layers import Dropout"
      ],
      "execution_count": null,
      "outputs": []
    },
    {
      "cell_type": "code",
      "metadata": {
        "id": "mx0uWS_kdVau"
      },
      "source": [
        "#Define Model\n",
        "model=Sequential()\n",
        "\n",
        "#Add First Hidden Layer\n",
        "model.add(Dense(32,input_dim=28*28,activation='relu'))\n",
        "\n",
        "#Add Second Hidden layer\n",
        "model.add(Dense(64,activation='relu'))\n",
        "\n",
        "#Add output layer having 10 neurons (ie has 10 categories)\n",
        "model.add(Dense(10,activation='softmax'))\n"
      ],
      "execution_count": null,
      "outputs": []
    },
    {
      "cell_type": "code",
      "metadata": {
        "id": "AQYWE-DNewzI"
      },
      "source": [
        "#compile Model\n",
        "model.compile(loss='categorical_crossentropy',optimizer='adam',metrics=['accuracy'])\n"
      ],
      "execution_count": null,
      "outputs": []
    },
    {
      "cell_type": "code",
      "metadata": {
        "colab": {
          "base_uri": "https://localhost:8080/"
        },
        "id": "NhyKUoTNf5Z_",
        "outputId": "c23281d8-f317-4a0b-d3d9-69ea54f660be"
      },
      "source": [
        "#print Model Summary\n",
        "model.summary()"
      ],
      "execution_count": null,
      "outputs": [
        {
          "output_type": "stream",
          "text": [
            "Model: \"sequential_12\"\n",
            "_________________________________________________________________\n",
            "Layer (type)                 Output Shape              Param #   \n",
            "=================================================================\n",
            "dense_30 (Dense)             (None, 32)                25120     \n",
            "_________________________________________________________________\n",
            "dense_31 (Dense)             (None, 64)                2112      \n",
            "_________________________________________________________________\n",
            "dense_32 (Dense)             (None, 10)                650       \n",
            "=================================================================\n",
            "Total params: 27,882\n",
            "Trainable params: 27,882\n",
            "Non-trainable params: 0\n",
            "_________________________________________________________________\n"
          ],
          "name": "stdout"
        }
      ]
    },
    {
      "cell_type": "code",
      "metadata": {
        "colab": {
          "base_uri": "https://localhost:8080/"
        },
        "id": "DDQ0ogWSgGaf",
        "outputId": "d1411a7c-c05e-4dec-ea79-112e7c0e05ef"
      },
      "source": [
        "#Train Model\n",
        "model.fit(x_train, y_train, epochs=10, batch_size=100)"
      ],
      "execution_count": null,
      "outputs": [
        {
          "output_type": "stream",
          "text": [
            "Epoch 1/10\n",
            "600/600 [==============================] - 1s 1ms/step - loss: 0.7582 - accuracy: 0.7894\n",
            "Epoch 2/10\n",
            "600/600 [==============================] - 1s 1ms/step - loss: 0.2125 - accuracy: 0.9381\n",
            "Epoch 3/10\n",
            "600/600 [==============================] - 1s 1ms/step - loss: 0.1672 - accuracy: 0.9516\n",
            "Epoch 4/10\n",
            "600/600 [==============================] - 1s 1ms/step - loss: 0.1341 - accuracy: 0.9594\n",
            "Epoch 5/10\n",
            "600/600 [==============================] - 1s 1ms/step - loss: 0.1131 - accuracy: 0.9669\n",
            "Epoch 6/10\n",
            "600/600 [==============================] - 1s 1ms/step - loss: 0.0991 - accuracy: 0.9713\n",
            "Epoch 7/10\n",
            "600/600 [==============================] - 1s 1ms/step - loss: 0.0884 - accuracy: 0.9739\n",
            "Epoch 8/10\n",
            "600/600 [==============================] - 1s 1ms/step - loss: 0.0789 - accuracy: 0.9762\n",
            "Epoch 9/10\n",
            "600/600 [==============================] - 1s 1ms/step - loss: 0.0719 - accuracy: 0.9787\n",
            "Epoch 10/10\n",
            "600/600 [==============================] - 1s 1ms/step - loss: 0.0649 - accuracy: 0.9805\n"
          ],
          "name": "stdout"
        },
        {
          "output_type": "execute_result",
          "data": {
            "text/plain": [
              "<tensorflow.python.keras.callbacks.History at 0x7f5e8a3626d0>"
            ]
          },
          "metadata": {
            "tags": []
          },
          "execution_count": 117
        }
      ]
    },
    {
      "cell_type": "code",
      "metadata": {
        "colab": {
          "base_uri": "https://localhost:8080/"
        },
        "id": "qI6UX1eVn15o",
        "outputId": "8df30ba2-0fb1-4ea8-f0f7-2f00fe4207db"
      },
      "source": [
        "scores=model.evaluate(x_test,y_test)\n",
        "print(scores)"
      ],
      "execution_count": null,
      "outputs": [
        {
          "output_type": "stream",
          "text": [
            "313/313 [==============================] - 0s 619us/step - loss: 0.1121 - accuracy: 0.9661\n",
            "[0.11214875429868698, 0.9660999774932861]\n"
          ],
          "name": "stdout"
        }
      ]
    },
    {
      "cell_type": "code",
      "metadata": {
        "id": "GMhGfqYDoGSy"
      },
      "source": [
        ""
      ],
      "execution_count": null,
      "outputs": []
    }
  ]
}